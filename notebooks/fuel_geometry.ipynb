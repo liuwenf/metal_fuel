{
 "cells": [
  {
   "cell_type": "markdown",
   "metadata": {
    "tags": []
   },
   "source": [
    "### Helical Four-Lobe Fuel Geometry "
   ]
  },
  {
   "cell_type": "code",
   "execution_count": 9,
   "metadata": {},
   "outputs": [],
   "source": [
    "import numpy as np\n",
    "import matplotlib.pyplot as plt"
   ]
  },
  {
   "cell_type": "markdown",
   "metadata": {},
   "source": [
    "#### Input parameters"
   ]
  },
  {
   "cell_type": "code",
   "execution_count": 10,
   "metadata": {},
   "outputs": [],
   "source": [
    "rf = 1.2           # inner radius of curvature at lobe\n",
    "Delta = 1.53*2.0   # Lobe thickness\n",
    "r = 1.49           # outer radius of curvature at lobe\n",
    "r = Delta/2.0\n",
    "D = 12.6           # diameter\n",
    "Rc = D / 2.0\n",
    "Dv = 6.75\n",
    "Rv = 3.26          # radius of curvature at valleys\n",
    "d0 = 0.4           # thickness of cladding at valleys\n",
    "dmax = 1.02        # thickness of cladding at end of lobes\n",
    "a = 1.56           # displacer width"
   ]
  },
  {
   "cell_type": "markdown",
   "metadata": {},
   "source": [
    "#### Compute coordinates of all control points"
   ]
  },
  {
   "cell_type": "code",
   "execution_count": 11,
   "metadata": {},
   "outputs": [],
   "source": [
    "# coordinates at the outer surface of cladding lobe\n",
    "x0 = Rc;     y0 = 0.0      \n",
    "\n",
    "# coordinates at the connection point between valley and lobe on outer cladding surface\n",
    "y1 = Delta /2.0;        x1 = Rc - (r - np.sqrt(r**2.0 - y1**2.0))  \n",
    "\n",
    "# coordinates at the inner surface of cladding lobe\n",
    "x2 = Rc - dmax;         y2 = 0.0       # \n",
    "\n",
    "# coordinates at the connection point between valley and lobe on inner cladding surface\n",
    "y3 = Delta/2.0 - d0;   x3 = x2 - (rf - np.sqrt(rf**2.0 - y3**2.0))\n",
    "\n",
    "d1 = (y1 - x1)/np.sqrt(2.0) # distance to the line of symmetry\n",
    "d3 = (y3 - x3)/np.sqrt(2.0) # distance to the line of symmetry\n",
    "\n",
    "L1 = np.sqrt(x1*x1 + y1*y1 - d1*d1)\n",
    "L3 = np.sqrt(x3*x3 + y3*y3 - d3*d3)\n",
    "\n",
    "L2 = Dv/2.0\n",
    "L4 = L2 - d0\n",
    "\n",
    "x4 = L2/np.sqrt(2)\n",
    "y4 = x4\n",
    "\n",
    "x5 = L4/np.sqrt(2)\n",
    "y5 = x5\n"
   ]
  },
  {
   "cell_type": "markdown",
   "metadata": {},
   "source": [
    "#### Print and plot control points"
   ]
  },
  {
   "cell_type": "code",
   "execution_count": 12,
   "metadata": {},
   "outputs": [
    {
     "name": "stdout",
     "output_type": "stream",
     "text": [
      " 6.300, 0.000\n",
      " 4.770, 1.530\n",
      " 2.386, 2.386\n",
      " 5.280, 0.000\n",
      " 4.484, 1.130\n",
      " 2.104, 2.104\n"
     ]
    },
    {
     "data": {
      "image/png": "[encoded data removed]",
      "text/plain": [
       "<Figure size 432x288 with 1 Axes>"
      ]
     },
     "metadata": {
      "needs_background": "light"
     },
     "output_type": "display_data"
    }
   ],
   "source": [
    "p0 = (x0, y0)\n",
    "p1 = (x1, y1)\n",
    "p2 = (x2, y2) \n",
    "p3 = (x3, y3)\n",
    "p4 = (x4, y4)\n",
    "p5 = (x5, y5) \n",
    "\n",
    "plt.figure()\n",
    "plt.xlabel('x, mm')\n",
    "plt.ylabel('y, mm')\n",
    "for i, p in enumerate( [p0,p1,p4,p2,p3,p5] ):\n",
    "    print(f\"{p[0]: .3f},{p[1]: .3f}\")\n",
    "    plt.scatter(p[0], p[1])\n",
    "    plt.text(p[0], p[1], str(i))    \n",
    "    pold = p\n",
    "plt.show()\n"
   ]
  },
  {
   "cell_type": "markdown",
   "metadata": {},
   "source": [
    "#### Computer radius of curvature"
   ]
  },
  {
   "cell_type": "code",
   "execution_count": 13,
   "metadata": {},
   "outputs": [
    {
     "name": "stdout",
     "output_type": "stream",
     "text": [
      "3.325\n",
      "4.770 0.000\n",
      "4.737 4.737\n"
     ]
    }
   ],
   "source": [
    "# compute radius of curvature\n",
    "d1_square = (y1 - x1)**2.0/2.0\n",
    "\n",
    "h1 = np.sqrt( x1**2.0 + y1**2.0 - (y1 - x1)**2.0 /2.0 ) - L2\n",
    "\n",
    "R1 = (h1**2.0 +d1_square)/(2*h1)\n",
    "R1\n",
    "\n",
    "d2_square = (y3 - x3)**2.0/2.0\n",
    "h2 = np.sqrt(x3**2.0+y3**2.0 - d2_square) - L4\n",
    "\n",
    "R2 = (h2**2.0+d2_square)/(2*h2)\n",
    "print(f\"{R2:.3f}\")\n",
    "\n",
    "xc1 = Rc - r\n",
    "yc1 = 0\n",
    "print(f\"{xc1:.3f}\", f\"{yc1:.3f}\")\n",
    "\n",
    "xc2 = (L2 +R2) /np.sqrt(2)\n",
    "yc2 = xc2\n",
    "print(f\"{xc2:.3f}\", f\"{yc2:.3f}\")"
   ]
  },
  {
   "cell_type": "code",
   "execution_count": 14,
   "metadata": {},
   "outputs": [
    {
     "name": "stdout",
     "output_type": "stream",
     "text": [
      "2.970\n",
      "4.080 0.000\n",
      "4.204 4.204\n"
     ]
    }
   ],
   "source": [
    "xc1 = Rc - dmax - rf\n",
    "yc1 = 0\n",
    "print(f\"{R1:.3f}\")\n",
    "print(f\"{xc1:.3f}\", f\"{yc1:.3f}\")\n",
    "xc2 = (L4+R1)/np.sqrt(2)\n",
    "yc2 = xc2\n",
    "print(f\"{xc2:.3f}\", f\"{yc2:.3f}\")"
   ]
  },
  {
   "cell_type": "markdown",
   "metadata": {},
   "source": [
    "#### Computer equivalent parameters"
   ]
  },
  {
   "cell_type": "code",
   "execution_count": 15,
   "metadata": {},
   "outputs": [
    {
     "name": "stdout",
     "output_type": "stream",
     "text": [
      "# Equivalent inner radius =  0.880 mm\n",
      "# Total Fuel Area =  71.10 mm^2\n",
      "# Fuel Area =  50.10 mm^2\n",
      "# Fuel Area (excluding displacer) =  47.67 mm^2 \n",
      "# Equivalent outer fuel radius  =  3.993 mm\n",
      "# Equivalent outer radius  =  4.757 mm\n",
      "# Equivalent outer diameter  =  9.515 mm\n",
      "# Clad thickness (avg) = 0.764 mm\n"
     ]
    }
   ],
   "source": [
    "AF = 37.49 # mm^2, fuel only\n",
    "AT = 63.53 # mm^2, fuel+clad\n",
    "AF = 50.1 # mm^2, fuel only\n",
    "AT = 71.1 # mm^2, fuel+clad\n",
    "\n",
    "Rf = np.sqrt(AF/np.pi)\n",
    "AD = a * a # mm^2, displacer\n",
    "Ri = np.sqrt(AD/np.pi)\n",
    "A = AF - AD\n",
    "\n",
    "print('# Equivalent inner radius = {: .3f} mm'.format(Ri))\n",
    "print('# Total Fuel Area = {A: .2f} mm^2'.format(A=AT))\n",
    "print('# Fuel Area = {A: .2f} mm^2'.format(A=AF))\n",
    "print('# Fuel Area (excluding displacer) = {: .2f} mm^2 '.format(A))\n",
    "print('# Equivalent outer fuel radius  = {Rf: .3f} mm'.format(Rf=Rf))\n",
    "\n",
    "Rc = np.sqrt(AT/np.pi)\n",
    "print('# Equivalent outer radius  = {: .3f} mm'.format(Rc))\n",
    "print('# Equivalent outer diameter  = {: .3f} mm'.format(Rc*2.0))\n",
    "print('# Clad thickness (avg) = {:.3f} mm'.format(Rc - Rf))\n"
   ]
  },
  {
   "cell_type": "code",
   "execution_count": null,
   "metadata": {},
   "outputs": [],
   "source": []
  }
 ],
 "metadata": {
  "kernelspec": {
   "display_name": "Python 3 (ipykernel)",
   "language": "python",
   "name": "python3"
  },
  "language_info": {
   "codemirror_mode": {
    "name": "ipython",
    "version": 3
   },
   "file_extension": ".py",
   "mimetype": "text/x-python",
   "name": "python",
   "nbconvert_exporter": "python",
   "pygments_lexer": "ipython3",
   "version": "3.9.7"
  }
 },
 "nbformat": 4,
 "nbformat_minor": 4
}
